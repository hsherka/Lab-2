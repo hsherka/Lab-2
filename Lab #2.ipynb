{
 "cells": [
  {
   "cell_type": "markdown",
   "metadata": {},
   "source": [
    "### Hanan Sherka \n",
    "### Statistical Analysis of Lottery Aid to Education in New York\n",
    "### 09.11.2018"
   ]
  },
  {
   "cell_type": "markdown",
   "metadata": {},
   "source": [
    "## Abstract"
   ]
  },
  {
   "cell_type": "markdown",
   "metadata": {},
   "source": [
    "In this lab, I took data on New York's distribution of lottery money towards school aid in the years 2002 - 2004. From this, I looked for and found the most aid given, the least aid given, and average aid given to each school district. I got this data from data.gov, I know it is reputable because it is a government website. This is the link to the untouched data set https://data.ny.gov/api/views/9ypc-vjig/rows.csv . "
   ]
  },
  {
   "cell_type": "markdown",
   "metadata": {},
   "source": [
    "## Dataset Preparation "
   ]
  },
  {
   "cell_type": "markdown",
   "metadata": {},
   "source": [
    "I opened the data file of Lottery Aid to Education Data and put it into the empty list called wage data. "
   ]
  },
  {
   "cell_type": "code",
   "execution_count": 2,
   "metadata": {},
   "outputs": [],
   "source": [
    "#open the data file\n",
    "NY_file = open(\"Lottery_Aid_to_Education__Beginning_2002.csv\")\n",
    "\n",
    "#Make it an empty list \n",
    "NY_data = []\n",
    "\n",
    "#Going through every line of data and putting it into the list\n",
    "for line in NY_file:\n",
    "    NY_data.append(line);\n",
    "    \n",
    "#close file\n",
    "NY_file.close();\n"
   ]
  },
  {
   "cell_type": "markdown",
   "metadata": {},
   "source": [
    "I removed the header columns and split the aid data into five lists: beginning year, ending year, county, district, and aid recieved. *There is also another list called unnecessary, and that was added in later.* I added unnecessary because the original county list had a mix of capital and lowercase letters, so when I divided data by county, it would not recognize counties as the same if they weren't typed in the same cases. I had to make a duplicate column of counties, but used the text function on excel to make them all lowercase. The steps I took to do this is create a new column, select the old column, selected formulas, then text, then lower. I then selected the new blank column, and dragged down on the first box so it would apply to all the cells in the column. I went back in this document and named the old column containing the mixed-case counties \"unnecessary\". I had to keep that column for the change I made to stay."
   ]
  },
  {
   "cell_type": "code",
   "execution_count": 3,
   "metadata": {},
   "outputs": [
    {
     "ename": "SyntaxError",
     "evalue": "invalid syntax (<ipython-input-3-0bfc43a233ee>, line 9)",
     "output_type": "error",
     "traceback": [
      "\u001b[1;36m  File \u001b[1;32m\"<ipython-input-3-0bfc43a233ee>\"\u001b[1;36m, line \u001b[1;32m9\u001b[0m\n\u001b[1;33m    school_district = [] York\u001b[0m\n\u001b[1;37m                            ^\u001b[0m\n\u001b[1;31mSyntaxError\u001b[0m\u001b[1;31m:\u001b[0m invalid syntax\n"
     ]
    }
   ],
   "source": [
    "#taking away the column headers \n",
    "del NY_data[0]; \n",
    "\n",
    "#Make empty lists for the beginning fiscal year, ending age ai\n",
    "#fiscal year, county, school district, and amount of aid given\n",
    "byear = []\n",
    "eyear = []\n",
    "county = []\n",
    "school_district = [] York\n",
    "aid = []istr\n",
    "unnecessary = []\n",
    "#Going thorugh every line of the list and split the\n",
    "#data at the comma \n",
    "for row in range(len(NY_data)):\n",
    "    column = NY_data[row].split(\",\")\n",
    "    \n",
    "    byear.append(column[0])\n",
    "    eyear.append(column[1])\n",
    "    county.append(column[2])\n",
    "    unnecessary.append(column[3]), \n",
    "    school_district.append(column[4])\n",
    "    aid.append(float(column[5]))\n",
    "\n",
    "#Test to veryify that it would print the first four values in the list\n",
    "print(byear[:4])\n",
    "print(eyear[:4]) \n",
    "print(county[:4])\n",
    "print(unnecessary[:4])\n",
    "print(school_district[:4])\n",
    "print(aid[:4])"
   ]
  },
  {
   "cell_type": "markdown",
   "metadata": {},
   "source": [
    "## Data Modeling"
   ]
  },
  {
   "cell_type": "markdown",
   "metadata": {},
   "source": [
    "I used the min and max function to find who recieves the most and least aid. "
   ]
  },
  {
   "cell_type": "code",
   "execution_count": null,
   "metadata": {},
   "outputs": [],
   "source": [
    "maxaid = max(aid)\n",
    "minaid = min(aid)\n",
    "\n",
    "print(maxaid)\n",
    "print(minaid)"
   ]
  },
  {
   "cell_type": "code",
   "execution_count": null,
   "metadata": {},
   "outputs": [],
   "source": [
    "#because the min and max function only found the aid amounts and not the information that goes along with that number\n",
    "#(like which district it was that recieved that much aid), I had to find the index of the hourly\n",
    "#rates so I could find which district that corresponds to \n",
    "\n",
    "minindex_dist =  aid.index(minaid)\n",
    "maxindex_dist = aid.index(maxaid)\n",
    "\n",
    "\n",
    "print(school_district[minindex_dist])\n",
    "print(school_district[maxindex_dist])\n"
   ]
  },
  {
   "cell_type": "code",
   "execution_count": null,
   "metadata": {},
   "outputs": [],
   "source": [
    "##Found the average amount of aid given to a district in all of New York from lottery funds. \n",
    "avgaid = sum(aid)/len(aid)\n",
    "print(avgaid)"
   ]
  },
  {
   "cell_type": "markdown",
   "metadata": {},
   "source": [
    "Printed all the counties in this dataset, and found there are 58 distinct counties. "
   ]
  },
  {
   "cell_type": "code",
   "execution_count": null,
   "metadata": {
    "scrolled": false
   },
   "outputs": [],
   "source": [
    "##Use the set function to separate the list of counties by each unique county. Also printed the length\n",
    "##of the list to find out how many counties there are. \n",
    "countylist = (set(county))\n",
    "\n",
    "print(countylist)\n",
    "print(len(countylist))"
   ]
  },
  {
   "cell_type": "code",
   "execution_count": null,
   "metadata": {
    "scrolled": true
   },
   "outputs": [],
   "source": [
    "#loop through each county and sum the aid that it recieves for each school district \n",
    "county_dict = {}\n",
    "for c in countylist:\n",
    "    county_dict [c] = 0\n",
    "    for index in range (len(school_district)): \n",
    "        if c == county [index]:\n",
    "            county_dict[c] = county_dict[c] + aid[index]\n",
    "for k,v in county_dict.items():\n",
    "    print(k, v)\n",
    "\n",
    "\n",
    "\n"
   ]
  },
  {
   "cell_type": "markdown",
   "metadata": {},
   "source": [
    "## Data Analysis and Conclusion "
   ]
  },
  {
   "cell_type": "markdown",
   "metadata": {},
   "source": [
    " I found that the most aid given to a school district in New York State from lottery funds was \\$1,337,283,719, which was given to New York City school district. The least aid given to a shcool district was \\$105, which was given to New Suffolk district. The average aid given was \\$4,063,464.25. This information made me wonder how a school district could make 105 when the average given is millions of dollars more than that. It also made me wonder how the money given to districts from the lottery is distributed. These are questions up for future investigation. \n"
   ]
  },
  {
   "cell_type": "markdown",
   "metadata": {},
   "source": [
    "## Acknowledgements"
   ]
  },
  {
   "cell_type": "markdown",
   "metadata": {},
   "source": [
    "I would like to acknowledge Ms. Sconyers for the code on how to use the set function, and for the for the dictionary function. I also used a lot of code from my first lab which was almost identical to this one other than the data set used. Everything other than the set and dictionary functions was from my first lab."
   ]
  }
 ],
 "metadata": {
  "kernelspec": {
   "display_name": "Python 3",
   "language": "python",
   "name": "python3"
  },
  "language_info": {
   "codemirror_mode": {
    "name": "ipython",
    "version": 3
   },
   "file_extension": ".py",
   "mimetype": "text/x-python",
   "name": "python",
   "nbconvert_exporter": "python",
   "pygments_lexer": "ipython3",
   "version": "3.6.5"
  }
 },
 "nbformat": 4,
 "nbformat_minor": 2
}
